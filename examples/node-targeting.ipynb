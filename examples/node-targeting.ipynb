{
    "metadata": {
        "kernelspec": {
            "name": "python3",
            "display_name": "Python 3"
        },
        "language_info": {
            "name": "python",
            "version": "3.6.6",
            "mimetype": "text/x-python",
            "codemirror_mode": {
                "name": "ipython",
                "version": 3
            },
            "pygments_lexer": "ipython3",
            "nbconvert_exporter": "python",
            "file_extension": ".py"
        }
    },
    "nbformat_minor": 2,
    "nbformat": 4,
    "cells": [
        {
            "cell_type": "markdown",
            "source": [
                "Check your current context to make sure you are targeting the right Kubernetes cluster"
            ],
            "metadata": {
                "azdata_cell_guid": "a988d1a2-b64e-42c1-8506-10e8d1838abd"
            }
        },
        {
            "cell_type": "code",
            "source": [
                "!kubectl config current-context"
            ],
            "metadata": {
                "azdata_cell_guid": "88a44f5d-9809-4bbc-b62c-95097c75c287"
            },
            "outputs": [
                {
                    "name": "stdout",
                    "text": "twright-arc-demo-3\n",
                    "output_type": "stream"
                }
            ],
            "execution_count": 1
        },
        {
            "cell_type": "markdown",
            "source": [
                "Check the labels currently on your nodes"
            ],
            "metadata": {
                "azdata_cell_guid": "5069ee87-ecfe-44ce-b115-a9ff58f6df77"
            }
        },
        {
            "cell_type": "code",
            "source": [
                "!kubectl get nodes --show-labels"
            ],
            "metadata": {
                "azdata_cell_guid": "c8074195-9c92-4bd1-9445-9f697dbb2754"
            },
            "outputs": [
                {
                    "name": "stdout",
                    "text": "NAME                                STATUS   ROLES   AGE    VERSION    LABELS\naks-nodepool1-25819688-vmss000000   Ready    agent   4d4h   v1.15.10   agentpool=nodepool1,beta.kubernetes.io/arch=amd64,beta.kubernetes.io/instance-type=Standard_D8_v3,beta.kubernetes.io/os=linux,failure-domain.beta.kubernetes.io/region=eastus,failure-domain.beta.kubernetes.io/zone=0,kubernetes.azure.com/cluster=MC_twright-arc-demo-3_twright-arc-demo-3_eastus,kubernetes.azure.com/role=agent,kubernetes.io/arch=amd64,kubernetes.io/hostname=aks-nodepool1-25819688-vmss000000,kubernetes.io/os=linux,kubernetes.io/role=agent,node-role.kubernetes.io/agent=,storageprofile=managed,storagetier=Standard_LRS\naks-nodepool1-25819688-vmss000001   Ready    agent   4d4h   v1.15.10   agentpool=nodepool1,beta.kubernetes.io/arch=amd64,beta.kubernetes.io/instance-type=Standard_D8_v3,beta.kubernetes.io/os=linux,failure-domain.beta.kubernetes.io/region=eastus,failure-domain.beta.kubernetes.io/zone=1,kubernetes.azure.com/cluster=MC_twright-arc-demo-3_twright-arc-demo-3_eastus,kubernetes.azure.com/role=agent,kubernetes.io/arch=amd64,kubernetes.io/hostname=aks-nodepool1-25819688-vmss000001,kubernetes.io/os=linux,kubernetes.io/role=agent,node-role.kubernetes.io/agent=,storageprofile=managed,storagetier=Standard_LRS\naks-nodepool1-25819688-vmss000002   Ready    agent   4d4h   v1.15.10   agentpool=nodepool1,beta.kubernetes.io/arch=amd64,beta.kubernetes.io/instance-type=Standard_D8_v3,beta.kubernetes.io/os=linux,failure-domain.beta.kubernetes.io/region=eastus,failure-domain.beta.kubernetes.io/zone=2,kubernetes.azure.com/cluster=MC_twright-arc-demo-3_twright-arc-demo-3_eastus,kubernetes.azure.com/role=agent,kubernetes.io/arch=amd64,kubernetes.io/hostname=aks-nodepool1-25819688-vmss000002,kubernetes.io/os=linux,kubernetes.io/role=agent,node-role.kubernetes.io/agent=,storageprofile=managed,storagetier=Standard_LRS\n",
                    "output_type": "stream"
                }
            ],
            "execution_count": 2
        },
        {
            "cell_type": "markdown",
            "source": [
                "Label a node"
            ],
            "metadata": {
                "azdata_cell_guid": "fe774e7d-c0a9-467b-952e-d895210e7a7e"
            }
        },
        {
            "cell_type": "code",
            "source": [
                "#kubectl label node <your-node-name> <name>=<value>\r\n",
                "!kubectl label node aks-nodepool1-25819688-vmss000000 test=twright"
            ],
            "metadata": {
                "azdata_cell_guid": "70185ece-d745-4d1c-9d35-4122e95a22a5"
            },
            "outputs": [
                {
                    "name": "stdout",
                    "text": "node/aks-nodepool1-25819688-vmss000000 labeled\n",
                    "output_type": "stream"
                }
            ],
            "execution_count": 3
        },
        {
            "cell_type": "markdown",
            "source": [
                "Provision a pod that is targeted at the node labeled with the label.  Save the yaml below as a .yaml file.  If you are using this from the twright-msft/k8s-toolkit this file is already created at ./yaml/hello-world-node-targeting.yaml.\r\n",
                "\r\n",
                "```yaml\r\n",
                "apiVersion: v1\r\n",
                "kind: Pod\r\n",
                "metadata:\r\n",
                "  name: hello-world-node-targeting\r\n",
                "spec:\r\n",
                "  containers:\r\n",
                "  - name: hello-world-node-targeting\r\n",
                "    image: alpine\r\n",
                "    command: ['sh', '-c', 'echo Hello World! && sleep 600']\r\n",
                "  nodeSelector:\r\n",
                "    test: twright\r\n",
                "```"
            ],
            "metadata": {
                "azdata_cell_guid": "460842b7-d283-4545-b776-2a1ce3705f70"
            }
        },
        {
            "cell_type": "markdown",
            "source": [
                "Apply the yaml file to your Kubernetes cluster."
            ],
            "metadata": {
                "azdata_cell_guid": "8f406926-1c98-45a6-bd4d-1102b8487330"
            }
        },
        {
            "cell_type": "code",
            "source": [
                "!kubectl apply -f ./yaml/hello-world-node-targeting.yaml"
            ],
            "metadata": {
                "azdata_cell_guid": "5ee9392f-3bef-4ebc-b936-4c459d7a2c07"
            },
            "outputs": [
                {
                    "name": "stdout",
                    "text": "pod/hello-world-node-targeting created\n",
                    "output_type": "stream"
                }
            ],
            "execution_count": 5
        },
        {
            "cell_type": "markdown",
            "source": [
                "Check to see if the pod was provisioned"
            ],
            "metadata": {
                "azdata_cell_guid": "b3ffc02c-21e8-469e-8a37-a09e2f768a1f"
            }
        },
        {
            "cell_type": "code",
            "source": [
                "!kubectl get po"
            ],
            "metadata": {
                "azdata_cell_guid": "b5120d17-4514-434a-ace0-a66ebef8c502"
            },
            "outputs": [
                {
                    "name": "stdout",
                    "text": "NAME                         READY   STATUS    RESTARTS   AGE\nhello-world                  1/1     Running   0          4m52s\nhello-world-node-targeting   1/1     Running   0          5s\n",
                    "output_type": "stream"
                }
            ],
            "execution_count": 6
        },
        {
            "cell_type": "markdown",
            "source": [
                "Check which node the pod landed on.  It should be the node you labeled above."
            ],
            "metadata": {
                "azdata_cell_guid": "e3a577c1-4f36-43ff-a936-74a6a4c5629d"
            }
        },
        {
            "cell_type": "code",
            "source": [
                "!kubectl describe po/hello-world-node-targeting"
            ],
            "metadata": {
                "azdata_cell_guid": "64415ce8-760f-4660-b352-e581e0111b6a"
            },
            "outputs": [
                {
                    "name": "stdout",
                    "text": "Name:               hello-world-node-targeting\nNamespace:          default\nPriority:           0\nPriorityClassName:  <none>\nNode:               aks-nodepool1-25819688-vmss000000/10.240.0.4\nStart Time:         Sat, 04 Apr 2020 14:49:48 -0700\nLabels:             <none>\nAnnotations:        kubectl.kubernetes.io/last-applied-configuration:\n                      {\"apiVersion\":\"v1\",\"kind\":\"Pod\",\"metadata\":{\"annotations\":{},\"name\":\"hello-world-node-targeting\",\"namespace\":\"default\"},\"spec\":{\"container...\nStatus:             Running\nIP:                 10.244.1.31\nContainers:\n  hello-world-node-targeting:\n    Container ID:  docker://b76bcae48defb29a417179ae64d972e3ae229706e6299efc6d56e3cdfb1875a9\n    Image:         alpine\n    Image ID:      docker-pullable://alpine@sha256:b276d875eeed9c7d3f1cfa7edb06b22ed22b14219a7d67c52c56612330348239\n    Port:          <none>\n    Host Port:     <none>\n    Command:\n      sh\n      -c\n      echo Hello World! && sleep 600\n    State:          Running\n      Started:      Sat, 04 Apr 2020 14:49:50 -0700\n    Ready:          True\n    Restart Count:  0\n    Environment:    <none>\n    Mounts:\n      /var/run/secrets/kubernetes.io/serviceaccount from default-token-6skh8 (ro)\nConditions:\n  Type              Status\n  Initialized       True \n  Ready             True \n  ContainersReady   True \n  PodScheduled      True \nVolumes:\n  default-token-6skh8:\n    Type:        Secret (a volume populated by a Secret)\n    SecretName:  default-token-6skh8\n    Optional:    false\nQoS Class:       BestEffort\nNode-Selectors:  test=twright\nTolerations:     node.kubernetes.io/not-ready:NoExecute for 300s\n                 node.kubernetes.io/unreachable:NoExecute for 300s\nEvents:\n  Type    Reason     Age   From                                        Message\n  ----    ------     ----  ----                                        -------\n  Normal  Scheduled  20s   default-scheduler                           Successfully assigned default/hello-world-node-targeting to aks-nodepool1-25819688-vmss000000\n  Normal  Pulling    19s   kubelet, aks-nodepool1-25819688-vmss000000  Pulling image \"alpine\"\n  Normal  Pulled     19s   kubelet, aks-nodepool1-25819688-vmss000000  Successfully pulled image \"alpine\"\n  Normal  Created    18s   kubelet, aks-nodepool1-25819688-vmss000000  Created container hello-world-node-targeting\n  Normal  Started    18s   kubelet, aks-nodepool1-25819688-vmss000000  Started container hello-world-node-targeting\n",
                    "output_type": "stream"
                }
            ],
            "execution_count": 7
        },
        {
            "cell_type": "markdown",
            "source": [
                "Remove the label"
            ],
            "metadata": {
                "azdata_cell_guid": "84c0c732-88b5-4ba0-aca0-14e72b1850a5"
            }
        },
        {
            "cell_type": "code",
            "source": [
                "#kubectl label node <your-node-name> <name>-\r\n",
                "!kubectl label node aks-nodepool1-25819688-vmss000000 test-"
            ],
            "metadata": {
                "azdata_cell_guid": "62457549-8ed2-4d9a-9694-090613d2c607"
            },
            "outputs": [
                {
                    "name": "stdout",
                    "text": "node/aks-nodepool1-25819688-vmss000000 labeled\n",
                    "output_type": "stream"
                }
            ],
            "execution_count": 8
        },
        {
            "cell_type": "markdown",
            "source": [
                "Check to see if the label is removed"
            ],
            "metadata": {
                "azdata_cell_guid": "7b3e38c6-c674-43da-ad93-3ddf927b95a3"
            }
        },
        {
            "cell_type": "code",
            "source": [
                "!kubectl get nodes --show-labels"
            ],
            "metadata": {
                "azdata_cell_guid": "6400cb4c-beb2-4ffd-8b88-95efe1cf8479"
            },
            "outputs": [
                {
                    "name": "stdout",
                    "text": "NAME                                STATUS   ROLES   AGE    VERSION    LABELS\naks-nodepool1-25819688-vmss000000   Ready    agent   4d4h   v1.15.10   agentpool=nodepool1,beta.kubernetes.io/arch=amd64,beta.kubernetes.io/instance-type=Standard_D8_v3,beta.kubernetes.io/os=linux,failure-domain.beta.kubernetes.io/region=eastus,failure-domain.beta.kubernetes.io/zone=0,kubernetes.azure.com/cluster=MC_twright-arc-demo-3_twright-arc-demo-3_eastus,kubernetes.azure.com/role=agent,kubernetes.io/arch=amd64,kubernetes.io/hostname=aks-nodepool1-25819688-vmss000000,kubernetes.io/os=linux,kubernetes.io/role=agent,node-role.kubernetes.io/agent=,storageprofile=managed,storagetier=Standard_LRS\naks-nodepool1-25819688-vmss000001   Ready    agent   4d4h   v1.15.10   agentpool=nodepool1,beta.kubernetes.io/arch=amd64,beta.kubernetes.io/instance-type=Standard_D8_v3,beta.kubernetes.io/os=linux,failure-domain.beta.kubernetes.io/region=eastus,failure-domain.beta.kubernetes.io/zone=1,kubernetes.azure.com/cluster=MC_twright-arc-demo-3_twright-arc-demo-3_eastus,kubernetes.azure.com/role=agent,kubernetes.io/arch=amd64,kubernetes.io/hostname=aks-nodepool1-25819688-vmss000001,kubernetes.io/os=linux,kubernetes.io/role=agent,node-role.kubernetes.io/agent=,storageprofile=managed,storagetier=Standard_LRS\naks-nodepool1-25819688-vmss000002   Ready    agent   4d4h   v1.15.10   agentpool=nodepool1,beta.kubernetes.io/arch=amd64,beta.kubernetes.io/instance-type=Standard_D8_v3,beta.kubernetes.io/os=linux,failure-domain.beta.kubernetes.io/region=eastus,failure-domain.beta.kubernetes.io/zone=2,kubernetes.azure.com/cluster=MC_twright-arc-demo-3_twright-arc-demo-3_eastus,kubernetes.azure.com/role=agent,kubernetes.io/arch=amd64,kubernetes.io/hostname=aks-nodepool1-25819688-vmss000002,kubernetes.io/os=linux,kubernetes.io/role=agent,node-role.kubernetes.io/agent=,storageprofile=managed,storagetier=Standard_LRS\n",
                    "output_type": "stream"
                }
            ],
            "execution_count": 9
        },
        {
            "cell_type": "markdown",
            "source": [
                "Check to see if the pod has been removed.  It probbably won't be."
            ],
            "metadata": {
                "azdata_cell_guid": "2684c231-5c4f-4a38-b9c5-4b3b3980ccd9"
            }
        },
        {
            "cell_type": "code",
            "source": [
                "!kubectl get po"
            ],
            "metadata": {
                "azdata_cell_guid": "e9dd5b85-0b57-48c2-919e-2fc8bf97d1b2"
            },
            "outputs": [
                {
                    "name": "stdout",
                    "text": "NAME                         READY   STATUS    RESTARTS   AGE\nhello-world                  1/1     Running   0          5m18s\nhello-world-node-targeting   1/1     Running   0          31s\n",
                    "output_type": "stream"
                }
            ],
            "execution_count": 10
        },
        {
            "cell_type": "markdown",
            "source": [
                "Delete the pod"
            ],
            "metadata": {
                "azdata_cell_guid": "2f2f2d11-03ce-46bf-9bba-44c747f79139"
            }
        },
        {
            "cell_type": "code",
            "source": [
                "!kubectl delete -f ./yaml/hello-world-node-targeting.yaml"
            ],
            "metadata": {
                "azdata_cell_guid": "4e1c6e5e-7202-462f-97ec-51ace5bdbf09"
            },
            "outputs": [
                {
                    "name": "stdout",
                    "text": "pod \"hello-world-node-targeting\" deleted\n",
                    "output_type": "stream"
                }
            ],
            "execution_count": 11
        },
        {
            "cell_type": "markdown",
            "source": [
                "Check the pod again"
            ],
            "metadata": {
                "azdata_cell_guid": "fa89cc2b-e936-4da7-aed7-c702bcc4c4db"
            }
        },
        {
            "cell_type": "code",
            "source": [
                "!kubectl get po"
            ],
            "metadata": {
                "azdata_cell_guid": "52a50af4-3bb3-4148-8d15-4cecf3597334"
            },
            "outputs": [
                {
                    "name": "stdout",
                    "text": "NAME          READY   STATUS    RESTARTS   AGE\nhello-world   1/1     Running   0          6m39s\n",
                    "output_type": "stream"
                }
            ],
            "execution_count": 12
        },
        {
            "cell_type": "markdown",
            "source": [
                "Try to create it again"
            ],
            "metadata": {
                "azdata_cell_guid": "4c762fbf-1a8c-43ca-9072-0dcfae9115d1"
            }
        },
        {
            "cell_type": "code",
            "source": [
                "!kubectl create -f ./yaml/hello-world-node-targeting.yaml"
            ],
            "metadata": {
                "azdata_cell_guid": "e07c0001-4e28-4fdb-8bcc-798582f82838"
            },
            "outputs": [
                {
                    "name": "stdout",
                    "text": "pod/hello-world-node-targeting created\n",
                    "output_type": "stream"
                }
            ],
            "execution_count": 14
        },
        {
            "cell_type": "markdown",
            "source": [
                "Check to see if the pod gets deployed.  Shouldn't."
            ],
            "metadata": {
                "azdata_cell_guid": "874ab9e2-0cc5-4e6c-9f9a-90423a6043f8"
            }
        },
        {
            "cell_type": "code",
            "source": [
                "!kubectl get po"
            ],
            "metadata": {
                "azdata_cell_guid": "fec0d83b-e94d-47e8-8ca5-f0fd4362ecba"
            },
            "outputs": [
                {
                    "name": "stdout",
                    "text": "NAME                         READY   STATUS    RESTARTS   AGE\nhello-world                  1/1     Running   0          6m58s\nhello-world-node-targeting   0/1     Pending   0          2s\n",
                    "output_type": "stream"
                }
            ],
            "execution_count": 15
        },
        {
            "cell_type": "markdown",
            "source": [
                "Check the reason it is in pending.  Should be because there is no node that matches the nodeSelector."
            ],
            "metadata": {
                "azdata_cell_guid": "8b8e512b-bb47-4ac4-a395-e3a695c02cf4"
            }
        },
        {
            "cell_type": "code",
            "source": [
                "!kubectl describe po/hello-world-node-targeting"
            ],
            "metadata": {
                "azdata_cell_guid": "2ecefc63-b1aa-4dbb-8e8b-404a5ae503c7"
            },
            "outputs": [
                {
                    "name": "stdout",
                    "text": "Name:               hello-world-node-targeting\nNamespace:          default\nPriority:           0\nPriorityClassName:  <none>\nNode:               <none>\nLabels:             <none>\nAnnotations:        <none>\nStatus:             Pending\nIP:                 \nContainers:\n  hello-world-node-targeting:\n    Image:      alpine\n    Port:       <none>\n    Host Port:  <none>\n    Command:\n      sh\n      -c\n      echo Hello World! && sleep 600\n    Environment:  <none>\n    Mounts:\n      /var/run/secrets/kubernetes.io/serviceaccount from default-token-6skh8 (ro)\nConditions:\n  Type           Status\n  PodScheduled   False \nVolumes:\n  default-token-6skh8:\n    Type:        Secret (a volume populated by a Secret)\n    SecretName:  default-token-6skh8\n    Optional:    false\nQoS Class:       BestEffort\nNode-Selectors:  test=twright\nTolerations:     node.kubernetes.io/not-ready:NoExecute for 300s\n                 node.kubernetes.io/unreachable:NoExecute for 300s\nEvents:\n  Type     Reason            Age                From               Message\n  ----     ------            ----               ----               -------\n  Warning  FailedScheduling  17s (x2 over 17s)  default-scheduler  0/3 nodes are available: 3 node(s) didn't match node selector.\n",
                    "output_type": "stream"
                }
            ],
            "execution_count": 17
        }
    ]
}